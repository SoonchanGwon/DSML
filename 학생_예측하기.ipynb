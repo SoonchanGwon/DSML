{
  "nbformat": 4,
  "nbformat_minor": 0,
  "metadata": {
    "colab": {
      "name": "학생 예측하기.ipynb",
      "provenance": [],
      "collapsed_sections": [
        "1G3kqp6c3tMx"
      ],
      "include_colab_link": true
    },
    "kernelspec": {
      "name": "python3",
      "display_name": "Python 3"
    },
    "language_info": {
      "name": "python"
    }
  },
  "cells": [
    {
      "cell_type": "markdown",
      "metadata": {
        "id": "view-in-github",
        "colab_type": "text"
      },
      "source": [
        "<a href=\"https://colab.research.google.com/github/SoonchanGwon/DSML/blob/main/%ED%95%99%EC%83%9D_%EC%98%88%EC%B8%A1%ED%95%98%EA%B8%B0.ipynb\" target=\"_parent\"><img src=\"https://colab.research.google.com/assets/colab-badge.svg\" alt=\"Open In Colab\"/></a>"
      ]
    },
    {
      "cell_type": "markdown",
      "metadata": {
        "id": "1G3kqp6c3tMx"
      },
      "source": [
        "# Colab에서 matplotlib 실행시 한글 안나오는 문제 해결 방법\n",
        "다음을 실행시킨뒤, 런타임 -> 런타임 다시시작 누르기"
      ]
    },
    {
      "cell_type": "code",
      "metadata": {
        "id": "TdknNKS22bIx"
      },
      "source": [
        "import matplotlib as mpl\n",
        "import matplotlib.pyplot as plt\n",
        " \n",
        "%config InlineBackend.figure_format = 'retina'\n",
        " \n",
        "!apt -qq -y install fonts-nanum\n",
        " \n",
        "import matplotlib.font_manager as fm\n",
        "fontpath = '/usr/share/fonts/truetype/nanum/NanumBarunGothic.ttf'\n",
        "font = fm.FontProperties(fname=fontpath, size=10)\n",
        "plt.rc('font', family='NanumBarunGothic') \n",
        "mpl.rcParams['axes.unicode_minus'] = False\n",
        "mpl.font_manager._rebuild()\n"
      ],
      "execution_count": null,
      "outputs": []
    },
    {
      "cell_type": "markdown",
      "metadata": {
        "id": "rcUm1iBP32PX"
      },
      "source": [
        "다음을 실행하여 테스트 해보기"
      ]
    },
    {
      "cell_type": "code",
      "metadata": {
        "id": "lzI9aMOD2gdH"
      },
      "source": [
        "import matplotlib.pyplot as plt\n",
        "plt.figure(figsize=(5,5))\n",
        "plt.plot([-10,10], [-10,10], label='한글테스트용')\n",
        "plt.title(\"한글 테스트용\", size = 25)\n",
        "plt.legend()\n",
        "plt.show()"
      ],
      "execution_count": null,
      "outputs": []
    },
    {
      "cell_type": "markdown",
      "metadata": {
        "id": "W3gXadVyvzJj"
      },
      "source": [
        "# 파일 획득 및 업로드하기\n",
        "\n",
        "* https://github.com/SoonchanGwon/DSML 에서 \"분류를 활용한 체격을 보고 초,중,고등학생 예측하기\" \n",
        "* 파일 2개 다운로드 (datas.csv, data_reader.py)"
      ]
    },
    {
      "cell_type": "markdown",
      "metadata": {
        "id": "9DzS5PrC9jdE"
      },
      "source": [
        "![image.png](data:image/png;base64,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)\n",
        "* 다운 받은 파일 업로드"
      ]
    },
    {
      "cell_type": "code",
      "metadata": {
        "id": "xCHbrUx4udPV"
      },
      "source": [
        "# 업로드 된 파일 확인\n",
        "!ls"
      ],
      "execution_count": null,
      "outputs": []
    },
    {
      "cell_type": "markdown",
      "metadata": {
        "id": "3RqQMRE6v-9z"
      },
      "source": [
        "# 실제 딥러닝 시작"
      ]
    },
    {
      "cell_type": "code",
      "metadata": {
        "id": "y--LCsPorhpt"
      },
      "source": [
        "from tensorflow import keras\n",
        "import data_reader\n",
        "import pandas as pd\n",
        "import numpy as np"
      ],
      "execution_count": 5,
      "outputs": []
    },
    {
      "cell_type": "code",
      "metadata": {
        "id": "yOw13fLyrkbL"
      },
      "source": [
        "# 몇 에포크 만큼 학습을 시킬 것인지 결정합니다.\n",
        "EPOCHS = 20  # 예제 기본값은 20입니다."
      ],
      "execution_count": 6,
      "outputs": []
    },
    {
      "cell_type": "code",
      "metadata": {
        "id": "Vr1vMOsvtJO_"
      },
      "source": [
        "# 데이터를 읽어옵니다.\n",
        "dr = data_reader.DataReader()"
      ],
      "execution_count": null,
      "outputs": []
    },
    {
      "cell_type": "code",
      "metadata": {
        "id": "MLmCT9UWz7Yn"
      },
      "source": [
        "# 불러온 데이터 확인해보기\n",
        "files = pd.read_csv(\"datas.csv\", encoding=\"cp949\")\n",
        "files.head()"
      ],
      "execution_count": null,
      "outputs": []
    },
    {
      "cell_type": "code",
      "metadata": {
        "id": "_zjIp_Sf1-Qb"
      },
      "source": [
        "# 인공신경망을 제작합니다.\n",
        "model = keras.Sequential([\n",
        "    keras.layers.Dense(3),\n",
        "    keras.layers.Dense(128, activation=\"relu\"),\n",
        "    keras.layers.Dense(3, activation='softmax')\n",
        "])"
      ],
      "execution_count": 9,
      "outputs": []
    },
    {
      "cell_type": "code",
      "metadata": {
        "id": "cocMV8UD2ApR"
      },
      "source": [
        "# 인공신경망을 컴파일합니다.\n",
        "model.compile(optimizer=\"adam\", metrics=[\"accuracy\"],\n",
        "              loss=\"sparse_categorical_crossentropy\")"
      ],
      "execution_count": 10,
      "outputs": []
    },
    {
      "cell_type": "code",
      "metadata": {
        "id": "plPZYgLy2EDl"
      },
      "source": [
        "# 인공신경망을 학습시킵니다.\n",
        "print(\"************ TRAINING START ************\")\n",
        "early_stop = keras.callbacks.EarlyStopping(monitor='val_loss', patience=10)\n",
        "history = model.fit(dr.train_X, dr.train_Y, epochs=EPOCHS,\n",
        "                    validation_data=(dr.test_X, dr.test_Y),\n",
        "                    callbacks=[early_stop])"
      ],
      "execution_count": null,
      "outputs": []
    },
    {
      "cell_type": "code",
      "metadata": {
        "id": "WstVuvjW2Hn5"
      },
      "source": [
        "# 학습 결과를 그래프로 출력합니다.\n",
        "data_reader.draw_graph(history)"
      ],
      "execution_count": null,
      "outputs": []
    },
    {
      "cell_type": "markdown",
      "metadata": {
        "id": "YAZtSYSd-0U_"
      },
      "source": [
        "# 모델이 잘 만들어 졌는지 테스트"
      ]
    },
    {
      "cell_type": "code",
      "metadata": {
        "id": "0rbQvEx3uvfT"
      },
      "source": [
        "# 임의의 데이터 넣기\n",
        "sex = float(input(\"성별을 입력해주세요 남:1 여:0 : \"))\n",
        "height = float(input(\"키를 입력해 주세요 : \")) / 194.2\n",
        "weight = float(input(\"체중을 입력해 주세요 : \")) / 130.7\n",
        "\n",
        "#넣은 데이터를 리스트로 만들기\n",
        "data = [height, weight, sex]\n",
        "\n",
        "# 데이터 모양정리 및 넘파이배열로 바꾸기\n",
        "data = np.reshape(data,(1,3))\n",
        "data = np.asarray(data)\n",
        "\n",
        "# 모델을 이용하여 예측하기\n",
        "guess = model.predict(data)\n",
        "\n",
        "print(\"==================================\")\n",
        "print(\"초등학생일 확률 : \",round(guess[0][0]*100,2),\"%\")\n",
        "print(\"  중학생일 확률 : \",round(guess[0][1]*100,2),\"%\")\n",
        "print(\"고등학생일 확률 : \",round(guess[0][2]*100,2),\"%\")"
      ],
      "execution_count": null,
      "outputs": []
    },
    {
      "cell_type": "markdown",
      "metadata": {
        "id": "Yd5yMm3UBKZA"
      },
      "source": [
        "# 시각화 해보기"
      ]
    },
    {
      "cell_type": "code",
      "metadata": {
        "id": "NhtReV6U18_Y"
      },
      "source": [
        "grade = []\n",
        "grade.append(guess[0][0]*100)\n",
        "grade.append(guess[0][1]*100)\n",
        "grade.append(guess[0][2]*100)\n",
        "\n",
        "## 데이터\n",
        "category = ['초등학생', '중학생', '고등학생'] ## 연령 카테고리, x축 눈금에 표시될 라벨\n",
        " \n",
        "## 시각화\n",
        "plt.figure(figsize=(25,5)) ## Figure 생성 사이즈는 (가로,세로)\n",
        "xtick_label_position = list(range(len(category))) ## x축 눈금 라벨이 표시될 x좌표\n",
        "plt.xticks(xtick_label_position, category) ## x축 눈금 라벨 출력\n",
        " \n",
        "## 바 차트 출력\n",
        "plt.bar(xtick_label_position, grade)\n",
        " \n",
        "plt.title('학생?',fontsize=20) ## 타이틀 출력\n",
        "plt.xlabel('학교급') ## x축 라벨 출력\n",
        "plt.ylabel('확률') ## y축 라벨 출력\n",
        "plt.show()"
      ],
      "execution_count": null,
      "outputs": []
    }
  ]
}