{
  "nbformat": 4,
  "nbformat_minor": 0,
  "metadata": {
    "colab": {
      "name": "4_5_데이터과학과_머신러닝.ipynb",
      "provenance": [],
      "collapsed_sections": [],
      "toc_visible": true,
      "include_colab_link": true
    },
    "kernelspec": {
      "name": "python3",
      "display_name": "Python 3"
    },
    "language_info": {
      "name": "python"
    }
  },
  "cells": [
    {
      "cell_type": "markdown",
      "metadata": {
        "id": "view-in-github",
        "colab_type": "text"
      },
      "source": [
        "<a href=\"https://colab.research.google.com/github/SoonchanGwon/DSML/blob/main/4_5_%EB%8D%B0%EC%9D%B4%ED%84%B0%EA%B3%BC%ED%95%99%EA%B3%BC_%EB%A8%B8%EC%8B%A0%EB%9F%AC%EB%8B%9D.ipynb\" target=\"_parent\"><img src=\"https://colab.research.google.com/assets/colab-badge.svg\" alt=\"Open In Colab\"/></a>"
      ]
    },
    {
      "cell_type": "markdown",
      "metadata": {
        "id": "gviYfxF5uWDX"
      },
      "source": [
        "#데이터 분석"
      ]
    },
    {
      "cell_type": "code",
      "metadata": {
        "colab": {
          "base_uri": "https://localhost:8080/"
        },
        "id": "KKps53hJd6Bj",
        "outputId": "65d03bf3-89d5-45a5-d559-be7e09d3758a"
      },
      "source": [
        "print(\"today is 4/5\")"
      ],
      "execution_count": null,
      "outputs": [
        {
          "output_type": "stream",
          "text": [
            "today is 4/5\n"
          ],
          "name": "stdout"
        }
      ]
    },
    {
      "cell_type": "code",
      "metadata": {
        "id": "o9SB2OWufrlJ"
      },
      "source": [
        "import pandas as pd\n",
        "import numpy as np"
      ],
      "execution_count": null,
      "outputs": []
    },
    {
      "cell_type": "code",
      "metadata": {
        "colab": {
          "base_uri": "https://localhost:8080/"
        },
        "id": "4CR93NrkiuY5",
        "outputId": "12876129-3557-4a21-b748-9c4b7381388f"
      },
      "source": [
        "s = pd.Series([1, 3, 4, np.nan, 6]) #not a number\n",
        "s"
      ],
      "execution_count": null,
      "outputs": [
        {
          "output_type": "execute_result",
          "data": {
            "text/plain": [
              "0    1.0\n",
              "1    3.0\n",
              "2    4.0\n",
              "3    NaN\n",
              "4    6.0\n",
              "dtype: float64"
            ]
          },
          "metadata": {
            "tags": []
          },
          "execution_count": 5
        }
      ]
    },
    {
      "cell_type": "code",
      "metadata": {
        "id": "vh7k7L5gkgin"
      },
      "source": [
        "# list, dictionary 자료형\n",
        "data_1 = ['a', 'b', 'c']\n",
        "data_2 = [10, 20, 30]\n",
        "data_3 = {'a':10, 'b':20, 'c':30}"
      ],
      "execution_count": null,
      "outputs": []
    },
    {
      "cell_type": "code",
      "metadata": {
        "colab": {
          "base_uri": "https://localhost:8080/"
        },
        "id": "sf--8VBrk0tA",
        "outputId": "9705e38b-bf33-44f9-c5c8-0c6087b4ea77"
      },
      "source": [
        "# pandas.Series(data=리스트)\n",
        "ser = pd.Series(data=data_2)\n",
        "ser"
      ],
      "execution_count": null,
      "outputs": [
        {
          "output_type": "execute_result",
          "data": {
            "text/plain": [
              "0    10\n",
              "1    20\n",
              "2    30\n",
              "dtype: int64"
            ]
          },
          "metadata": {
            "tags": []
          },
          "execution_count": 7
        }
      ]
    },
    {
      "cell_type": "code",
      "metadata": {
        "colab": {
          "base_uri": "https://localhost:8080/"
        },
        "id": "0xm6aSpNlLfO",
        "outputId": "c798590b-914b-45a5-f810-120b7b1181dc"
      },
      "source": [
        "# pandas.Series(data=리스트, index=리스트)\n",
        "ser = pd.Series(data=data_2, index=data_1)\n",
        "ser"
      ],
      "execution_count": null,
      "outputs": [
        {
          "output_type": "execute_result",
          "data": {
            "text/plain": [
              "a    10\n",
              "b    20\n",
              "c    30\n",
              "dtype: int64"
            ]
          },
          "metadata": {
            "tags": []
          },
          "execution_count": 8
        }
      ]
    },
    {
      "cell_type": "code",
      "metadata": {
        "colab": {
          "base_uri": "https://localhost:8080/"
        },
        "id": "2W6LN09Ll3so",
        "outputId": "b5d6ba74-6ea8-4828-859e-bdbc809d5c34"
      },
      "source": [
        "print(ser['a']) # 마지막꺼만 출력돼서\n",
        "ser[0]"
      ],
      "execution_count": null,
      "outputs": [
        {
          "output_type": "stream",
          "text": [
            "10\n"
          ],
          "name": "stdout"
        },
        {
          "output_type": "execute_result",
          "data": {
            "text/plain": [
              "10"
            ]
          },
          "metadata": {
            "tags": []
          },
          "execution_count": 11
        }
      ]
    },
    {
      "cell_type": "code",
      "metadata": {
        "colab": {
          "base_uri": "https://localhost:8080/"
        },
        "id": "-nX7aTz3l5Um",
        "outputId": "2189874d-2c5a-4c40-9950-41e304c5dc8e"
      },
      "source": [
        "# pandas.Series(data=딕셔너리)\n",
        "ser = pd.Series(data=data_3)\n",
        "ser"
      ],
      "execution_count": null,
      "outputs": [
        {
          "output_type": "execute_result",
          "data": {
            "text/plain": [
              "a    10\n",
              "b    20\n",
              "c    30\n",
              "dtype: int64"
            ]
          },
          "metadata": {
            "tags": []
          },
          "execution_count": 12
        }
      ]
    },
    {
      "cell_type": "code",
      "metadata": {
        "colab": {
          "base_uri": "https://localhost:8080/"
        },
        "id": "KjZ9A5rAmIuu",
        "outputId": "67f88f77-46b0-4397-9b6f-09ac9d42d712"
      },
      "source": [
        "# numpy의 random 모듈로 난수 발생하여 5X4 배열 만들기\n",
        "from numpy.random import randn\n",
        "np.random.seed(1004) #시드가 같으면_랜덤 값이 같지요\n",
        "data = randn(5,4)\n",
        "data"
      ],
      "execution_count": null,
      "outputs": [
        {
          "output_type": "execute_result",
          "data": {
            "text/plain": [
              "array([[ 0.59440307,  0.40260871, -0.80516223,  0.1151257 ],\n",
              "       [-0.75306522, -0.7841178 ,  1.46157577,  1.57607553],\n",
              "       [-0.17131776, -0.91448182,  0.86013945,  0.35880192],\n",
              "       [ 1.72965706, -0.49764822,  1.7618699 ,  0.16901308],\n",
              "       [-1.08523701, -0.01065175,  1.11579838, -1.26497153]])"
            ]
          },
          "metadata": {
            "tags": []
          },
          "execution_count": 14
        }
      ]
    },
    {
      "cell_type": "code",
      "metadata": {
        "colab": {
          "base_uri": "https://localhost:8080/",
          "height": 204
        },
        "id": "DYlwKpcWmt9g",
        "outputId": "bf0a7528-303f-47b5-91b9-ecde3431f132"
      },
      "source": [
        "# pandas.DataFrame(data= , index= , columns= )\n",
        "df = pd.DataFrame(data, \n",
        "index =  'A B C D E'.split(), \n",
        "columns = '가 나 다 라'.split())\n",
        "df"
      ],
      "execution_count": null,
      "outputs": [
        {
          "output_type": "execute_result",
          "data": {
            "text/html": [
              "<div>\n",
              "<style scoped>\n",
              "    .dataframe tbody tr th:only-of-type {\n",
              "        vertical-align: middle;\n",
              "    }\n",
              "\n",
              "    .dataframe tbody tr th {\n",
              "        vertical-align: top;\n",
              "    }\n",
              "\n",
              "    .dataframe thead th {\n",
              "        text-align: right;\n",
              "    }\n",
              "</style>\n",
              "<table border=\"1\" class=\"dataframe\">\n",
              "  <thead>\n",
              "    <tr style=\"text-align: right;\">\n",
              "      <th></th>\n",
              "      <th>가</th>\n",
              "      <th>나</th>\n",
              "      <th>다</th>\n",
              "      <th>라</th>\n",
              "    </tr>\n",
              "  </thead>\n",
              "  <tbody>\n",
              "    <tr>\n",
              "      <th>A</th>\n",
              "      <td>0.594403</td>\n",
              "      <td>0.402609</td>\n",
              "      <td>-0.805162</td>\n",
              "      <td>0.115126</td>\n",
              "    </tr>\n",
              "    <tr>\n",
              "      <th>B</th>\n",
              "      <td>-0.753065</td>\n",
              "      <td>-0.784118</td>\n",
              "      <td>1.461576</td>\n",
              "      <td>1.576076</td>\n",
              "    </tr>\n",
              "    <tr>\n",
              "      <th>C</th>\n",
              "      <td>-0.171318</td>\n",
              "      <td>-0.914482</td>\n",
              "      <td>0.860139</td>\n",
              "      <td>0.358802</td>\n",
              "    </tr>\n",
              "    <tr>\n",
              "      <th>D</th>\n",
              "      <td>1.729657</td>\n",
              "      <td>-0.497648</td>\n",
              "      <td>1.761870</td>\n",
              "      <td>0.169013</td>\n",
              "    </tr>\n",
              "    <tr>\n",
              "      <th>E</th>\n",
              "      <td>-1.085237</td>\n",
              "      <td>-0.010652</td>\n",
              "      <td>1.115798</td>\n",
              "      <td>-1.264972</td>\n",
              "    </tr>\n",
              "  </tbody>\n",
              "</table>\n",
              "</div>"
            ],
            "text/plain": [
              "          가         나         다         라\n",
              "A  0.594403  0.402609 -0.805162  0.115126\n",
              "B -0.753065 -0.784118  1.461576  1.576076\n",
              "C -0.171318 -0.914482  0.860139  0.358802\n",
              "D  1.729657 -0.497648  1.761870  0.169013\n",
              "E -1.085237 -0.010652  1.115798 -1.264972"
            ]
          },
          "metadata": {
            "tags": []
          },
          "execution_count": 15
        }
      ]
    },
    {
      "cell_type": "code",
      "metadata": {
        "colab": {
          "base_uri": "https://localhost:8080/"
        },
        "id": "26McN7zFnJpg",
        "outputId": "28b3d99e-620c-4770-920b-b087d6ad2d55"
      },
      "source": [
        "df['나']"
      ],
      "execution_count": null,
      "outputs": [
        {
          "output_type": "execute_result",
          "data": {
            "text/plain": [
              "A    0.402609\n",
              "B   -0.784118\n",
              "C   -0.914482\n",
              "D   -0.497648\n",
              "E   -0.010652\n",
              "Name: 나, dtype: float64"
            ]
          },
          "metadata": {
            "tags": []
          },
          "execution_count": 17
        }
      ]
    },
    {
      "cell_type": "code",
      "metadata": {
        "colab": {
          "base_uri": "https://localhost:8080/"
        },
        "id": "5xo4BLxvnSzB",
        "outputId": "94ce61bc-0cd3-4dac-fead-20c44660f437"
      },
      "source": [
        "type(df['나']) #시리즈 시리즈 시리즈 ... -> 데이터 프레임"
      ],
      "execution_count": null,
      "outputs": [
        {
          "output_type": "execute_result",
          "data": {
            "text/plain": [
              "pandas.core.series.Series"
            ]
          },
          "metadata": {
            "tags": []
          },
          "execution_count": 18
        }
      ]
    },
    {
      "cell_type": "code",
      "metadata": {
        "colab": {
          "base_uri": "https://localhost:8080/",
          "height": 204
        },
        "id": "TwBBFdtGnfZf",
        "outputId": "089c17a3-a036-4769-d6b3-67ce23fa5cc0"
      },
      "source": [
        "df[['나','라']] #왜 대괄호가 2개인가? -> 2차원 구조이기 때문."
      ],
      "execution_count": null,
      "outputs": [
        {
          "output_type": "execute_result",
          "data": {
            "text/html": [
              "<div>\n",
              "<style scoped>\n",
              "    .dataframe tbody tr th:only-of-type {\n",
              "        vertical-align: middle;\n",
              "    }\n",
              "\n",
              "    .dataframe tbody tr th {\n",
              "        vertical-align: top;\n",
              "    }\n",
              "\n",
              "    .dataframe thead th {\n",
              "        text-align: right;\n",
              "    }\n",
              "</style>\n",
              "<table border=\"1\" class=\"dataframe\">\n",
              "  <thead>\n",
              "    <tr style=\"text-align: right;\">\n",
              "      <th></th>\n",
              "      <th>나</th>\n",
              "      <th>라</th>\n",
              "    </tr>\n",
              "  </thead>\n",
              "  <tbody>\n",
              "    <tr>\n",
              "      <th>A</th>\n",
              "      <td>0.402609</td>\n",
              "      <td>0.115126</td>\n",
              "    </tr>\n",
              "    <tr>\n",
              "      <th>B</th>\n",
              "      <td>-0.784118</td>\n",
              "      <td>1.576076</td>\n",
              "    </tr>\n",
              "    <tr>\n",
              "      <th>C</th>\n",
              "      <td>-0.914482</td>\n",
              "      <td>0.358802</td>\n",
              "    </tr>\n",
              "    <tr>\n",
              "      <th>D</th>\n",
              "      <td>-0.497648</td>\n",
              "      <td>0.169013</td>\n",
              "    </tr>\n",
              "    <tr>\n",
              "      <th>E</th>\n",
              "      <td>-0.010652</td>\n",
              "      <td>-1.264972</td>\n",
              "    </tr>\n",
              "  </tbody>\n",
              "</table>\n",
              "</div>"
            ],
            "text/plain": [
              "          나         라\n",
              "A  0.402609  0.115126\n",
              "B -0.784118  1.576076\n",
              "C -0.914482  0.358802\n",
              "D -0.497648  0.169013\n",
              "E -0.010652 -1.264972"
            ]
          },
          "metadata": {
            "tags": []
          },
          "execution_count": 19
        }
      ]
    },
    {
      "cell_type": "code",
      "metadata": {
        "colab": {
          "base_uri": "https://localhost:8080/",
          "height": 204
        },
        "id": "TRbydLqFnmaQ",
        "outputId": "f6992406-706d-44b9-a440-b4d0aa264074"
      },
      "source": [
        "df['합'] = df['나'] + df['다']\n",
        "df"
      ],
      "execution_count": null,
      "outputs": [
        {
          "output_type": "execute_result",
          "data": {
            "text/html": [
              "<div>\n",
              "<style scoped>\n",
              "    .dataframe tbody tr th:only-of-type {\n",
              "        vertical-align: middle;\n",
              "    }\n",
              "\n",
              "    .dataframe tbody tr th {\n",
              "        vertical-align: top;\n",
              "    }\n",
              "\n",
              "    .dataframe thead th {\n",
              "        text-align: right;\n",
              "    }\n",
              "</style>\n",
              "<table border=\"1\" class=\"dataframe\">\n",
              "  <thead>\n",
              "    <tr style=\"text-align: right;\">\n",
              "      <th></th>\n",
              "      <th>가</th>\n",
              "      <th>나</th>\n",
              "      <th>다</th>\n",
              "      <th>라</th>\n",
              "      <th>합</th>\n",
              "    </tr>\n",
              "  </thead>\n",
              "  <tbody>\n",
              "    <tr>\n",
              "      <th>A</th>\n",
              "      <td>0.594403</td>\n",
              "      <td>0.402609</td>\n",
              "      <td>-0.805162</td>\n",
              "      <td>0.115126</td>\n",
              "      <td>-0.402554</td>\n",
              "    </tr>\n",
              "    <tr>\n",
              "      <th>B</th>\n",
              "      <td>-0.753065</td>\n",
              "      <td>-0.784118</td>\n",
              "      <td>1.461576</td>\n",
              "      <td>1.576076</td>\n",
              "      <td>0.677458</td>\n",
              "    </tr>\n",
              "    <tr>\n",
              "      <th>C</th>\n",
              "      <td>-0.171318</td>\n",
              "      <td>-0.914482</td>\n",
              "      <td>0.860139</td>\n",
              "      <td>0.358802</td>\n",
              "      <td>-0.054342</td>\n",
              "    </tr>\n",
              "    <tr>\n",
              "      <th>D</th>\n",
              "      <td>1.729657</td>\n",
              "      <td>-0.497648</td>\n",
              "      <td>1.761870</td>\n",
              "      <td>0.169013</td>\n",
              "      <td>1.264222</td>\n",
              "    </tr>\n",
              "    <tr>\n",
              "      <th>E</th>\n",
              "      <td>-1.085237</td>\n",
              "      <td>-0.010652</td>\n",
              "      <td>1.115798</td>\n",
              "      <td>-1.264972</td>\n",
              "      <td>1.105147</td>\n",
              "    </tr>\n",
              "  </tbody>\n",
              "</table>\n",
              "</div>"
            ],
            "text/plain": [
              "          가         나         다         라         합\n",
              "A  0.594403  0.402609 -0.805162  0.115126 -0.402554\n",
              "B -0.753065 -0.784118  1.461576  1.576076  0.677458\n",
              "C -0.171318 -0.914482  0.860139  0.358802 -0.054342\n",
              "D  1.729657 -0.497648  1.761870  0.169013  1.264222\n",
              "E -1.085237 -0.010652  1.115798 -1.264972  1.105147"
            ]
          },
          "metadata": {
            "tags": []
          },
          "execution_count": 36
        }
      ]
    },
    {
      "cell_type": "code",
      "metadata": {
        "colab": {
          "base_uri": "https://localhost:8080/",
          "height": 204
        },
        "id": "m8dOm1xhn8W7",
        "outputId": "5bc2126e-46bc-4a14-adc7-94137f179fb3"
      },
      "source": [
        "df.drop('합', axis=1, inplace=True) #inplca 안 적거나 False -> 실제로 삭제는 안됨. # drop 메소드를 이용해 열을 삭제.\n",
        "df"
      ],
      "execution_count": null,
      "outputs": [
        {
          "output_type": "execute_result",
          "data": {
            "text/html": [
              "<div>\n",
              "<style scoped>\n",
              "    .dataframe tbody tr th:only-of-type {\n",
              "        vertical-align: middle;\n",
              "    }\n",
              "\n",
              "    .dataframe tbody tr th {\n",
              "        vertical-align: top;\n",
              "    }\n",
              "\n",
              "    .dataframe thead th {\n",
              "        text-align: right;\n",
              "    }\n",
              "</style>\n",
              "<table border=\"1\" class=\"dataframe\">\n",
              "  <thead>\n",
              "    <tr style=\"text-align: right;\">\n",
              "      <th></th>\n",
              "      <th>가</th>\n",
              "      <th>나</th>\n",
              "      <th>다</th>\n",
              "      <th>라</th>\n",
              "    </tr>\n",
              "  </thead>\n",
              "  <tbody>\n",
              "    <tr>\n",
              "      <th>A</th>\n",
              "      <td>0.594403</td>\n",
              "      <td>0.402609</td>\n",
              "      <td>-0.805162</td>\n",
              "      <td>0.115126</td>\n",
              "    </tr>\n",
              "    <tr>\n",
              "      <th>B</th>\n",
              "      <td>-0.753065</td>\n",
              "      <td>-0.784118</td>\n",
              "      <td>1.461576</td>\n",
              "      <td>1.576076</td>\n",
              "    </tr>\n",
              "    <tr>\n",
              "      <th>C</th>\n",
              "      <td>-0.171318</td>\n",
              "      <td>-0.914482</td>\n",
              "      <td>0.860139</td>\n",
              "      <td>0.358802</td>\n",
              "    </tr>\n",
              "    <tr>\n",
              "      <th>D</th>\n",
              "      <td>1.729657</td>\n",
              "      <td>-0.497648</td>\n",
              "      <td>1.761870</td>\n",
              "      <td>0.169013</td>\n",
              "    </tr>\n",
              "    <tr>\n",
              "      <th>E</th>\n",
              "      <td>-1.085237</td>\n",
              "      <td>-0.010652</td>\n",
              "      <td>1.115798</td>\n",
              "      <td>-1.264972</td>\n",
              "    </tr>\n",
              "  </tbody>\n",
              "</table>\n",
              "</div>"
            ],
            "text/plain": [
              "          가         나         다         라\n",
              "A  0.594403  0.402609 -0.805162  0.115126\n",
              "B -0.753065 -0.784118  1.461576  1.576076\n",
              "C -0.171318 -0.914482  0.860139  0.358802\n",
              "D  1.729657 -0.497648  1.761870  0.169013\n",
              "E -1.085237 -0.010652  1.115798 -1.264972"
            ]
          },
          "metadata": {
            "tags": []
          },
          "execution_count": 37
        }
      ]
    },
    {
      "cell_type": "code",
      "metadata": {
        "colab": {
          "base_uri": "https://localhost:8080/",
          "height": 173
        },
        "id": "Hdo9IV2MowEH",
        "outputId": "200a0e91-220a-453e-b669-ee184ce3c2b7"
      },
      "source": [
        "df.drop('E', axis=0, inplace=True)\n",
        "df"
      ],
      "execution_count": null,
      "outputs": [
        {
          "output_type": "execute_result",
          "data": {
            "text/html": [
              "<div>\n",
              "<style scoped>\n",
              "    .dataframe tbody tr th:only-of-type {\n",
              "        vertical-align: middle;\n",
              "    }\n",
              "\n",
              "    .dataframe tbody tr th {\n",
              "        vertical-align: top;\n",
              "    }\n",
              "\n",
              "    .dataframe thead th {\n",
              "        text-align: right;\n",
              "    }\n",
              "</style>\n",
              "<table border=\"1\" class=\"dataframe\">\n",
              "  <thead>\n",
              "    <tr style=\"text-align: right;\">\n",
              "      <th></th>\n",
              "      <th>가</th>\n",
              "      <th>나</th>\n",
              "      <th>다</th>\n",
              "      <th>라</th>\n",
              "    </tr>\n",
              "  </thead>\n",
              "  <tbody>\n",
              "    <tr>\n",
              "      <th>A</th>\n",
              "      <td>0.594403</td>\n",
              "      <td>0.402609</td>\n",
              "      <td>-0.805162</td>\n",
              "      <td>0.115126</td>\n",
              "    </tr>\n",
              "    <tr>\n",
              "      <th>B</th>\n",
              "      <td>-0.753065</td>\n",
              "      <td>-0.784118</td>\n",
              "      <td>1.461576</td>\n",
              "      <td>1.576076</td>\n",
              "    </tr>\n",
              "    <tr>\n",
              "      <th>C</th>\n",
              "      <td>-0.171318</td>\n",
              "      <td>-0.914482</td>\n",
              "      <td>0.860139</td>\n",
              "      <td>0.358802</td>\n",
              "    </tr>\n",
              "    <tr>\n",
              "      <th>D</th>\n",
              "      <td>1.729657</td>\n",
              "      <td>-0.497648</td>\n",
              "      <td>1.761870</td>\n",
              "      <td>0.169013</td>\n",
              "    </tr>\n",
              "  </tbody>\n",
              "</table>\n",
              "</div>"
            ],
            "text/plain": [
              "          가         나         다         라\n",
              "A  0.594403  0.402609 -0.805162  0.115126\n",
              "B -0.753065 -0.784118  1.461576  1.576076\n",
              "C -0.171318 -0.914482  0.860139  0.358802\n",
              "D  1.729657 -0.497648  1.761870  0.169013"
            ]
          },
          "metadata": {
            "tags": []
          },
          "execution_count": 38
        }
      ]
    },
    {
      "cell_type": "code",
      "metadata": {
        "colab": {
          "base_uri": "https://localhost:8080/",
          "height": 173
        },
        "id": "-32V0XpMpUCu",
        "outputId": "10cc823f-af14-4b6f-8aad-2705a728e48e"
      },
      "source": [
        "df[df>1]"
      ],
      "execution_count": null,
      "outputs": [
        {
          "output_type": "execute_result",
          "data": {
            "text/html": [
              "<div>\n",
              "<style scoped>\n",
              "    .dataframe tbody tr th:only-of-type {\n",
              "        vertical-align: middle;\n",
              "    }\n",
              "\n",
              "    .dataframe tbody tr th {\n",
              "        vertical-align: top;\n",
              "    }\n",
              "\n",
              "    .dataframe thead th {\n",
              "        text-align: right;\n",
              "    }\n",
              "</style>\n",
              "<table border=\"1\" class=\"dataframe\">\n",
              "  <thead>\n",
              "    <tr style=\"text-align: right;\">\n",
              "      <th></th>\n",
              "      <th>가</th>\n",
              "      <th>나</th>\n",
              "      <th>다</th>\n",
              "      <th>라</th>\n",
              "    </tr>\n",
              "  </thead>\n",
              "  <tbody>\n",
              "    <tr>\n",
              "      <th>A</th>\n",
              "      <td>NaN</td>\n",
              "      <td>NaN</td>\n",
              "      <td>NaN</td>\n",
              "      <td>NaN</td>\n",
              "    </tr>\n",
              "    <tr>\n",
              "      <th>B</th>\n",
              "      <td>NaN</td>\n",
              "      <td>NaN</td>\n",
              "      <td>1.461576</td>\n",
              "      <td>1.576076</td>\n",
              "    </tr>\n",
              "    <tr>\n",
              "      <th>C</th>\n",
              "      <td>NaN</td>\n",
              "      <td>NaN</td>\n",
              "      <td>NaN</td>\n",
              "      <td>NaN</td>\n",
              "    </tr>\n",
              "    <tr>\n",
              "      <th>D</th>\n",
              "      <td>1.729657</td>\n",
              "      <td>NaN</td>\n",
              "      <td>1.761870</td>\n",
              "      <td>NaN</td>\n",
              "    </tr>\n",
              "  </tbody>\n",
              "</table>\n",
              "</div>"
            ],
            "text/plain": [
              "          가   나         다         라\n",
              "A       NaN NaN       NaN       NaN\n",
              "B       NaN NaN  1.461576  1.576076\n",
              "C       NaN NaN       NaN       NaN\n",
              "D  1.729657 NaN  1.761870       NaN"
            ]
          },
          "metadata": {
            "tags": []
          },
          "execution_count": 45
        }
      ]
    },
    {
      "cell_type": "code",
      "metadata": {
        "colab": {
          "base_uri": "https://localhost:8080/"
        },
        "id": "lq5qqyacpVyg",
        "outputId": "36a64d31-11d8-45a9-cf54-b10c083a7695"
      },
      "source": [
        "arr_d = np.array([1, 2, 3, 4])\n",
        "\n",
        "print(arr_d) #콤마가 없고, 리스트와 비슷하다. 리스트와는 다르게 연산이 가능하다."
      ],
      "execution_count": null,
      "outputs": [
        {
          "output_type": "stream",
          "text": [
            "[1 2 3 4]\n"
          ],
          "name": "stdout"
        }
      ]
    },
    {
      "cell_type": "code",
      "metadata": {
        "colab": {
          "base_uri": "https://localhost:8080/"
        },
        "id": "CBp6EoBVqBk3",
        "outputId": "03bce7cf-2b71-4095-f976-6a52d526c99f"
      },
      "source": [
        "print(arr_d[1])\n",
        "print(arr_d[1:3]) #인덱싱, 슬라이싱이 가능하다. "
      ],
      "execution_count": null,
      "outputs": [
        {
          "output_type": "stream",
          "text": [
            "2\n",
            "[2 3]\n"
          ],
          "name": "stdout"
        }
      ]
    },
    {
      "cell_type": "code",
      "metadata": {
        "colab": {
          "base_uri": "https://localhost:8080/"
        },
        "id": "3Ls0VlvuqQau",
        "outputId": "823f8cb4-dc71-41aa-db14-1735b69656a2"
      },
      "source": [
        "arr_2d = np.array([[1, 2, 3], [4, 5, 6], [7, 8, 9]])\n",
        "\n",
        "#print(arr_2d) print()함수를 사용하지 않아도 된다.\n",
        "arr_2d"
      ],
      "execution_count": null,
      "outputs": [
        {
          "output_type": "execute_result",
          "data": {
            "text/plain": [
              "array([[1, 2, 3],\n",
              "       [4, 5, 6],\n",
              "       [7, 8, 9]])"
            ]
          },
          "metadata": {
            "tags": []
          },
          "execution_count": 48
        }
      ]
    },
    {
      "cell_type": "code",
      "metadata": {
        "colab": {
          "base_uri": "https://localhost:8080/"
        },
        "id": "zXS_mVNjq0wI",
        "outputId": "5d835ce5-416b-4524-b98e-d627b89b594e"
      },
      "source": [
        "arr_2d[1]"
      ],
      "execution_count": null,
      "outputs": [
        {
          "output_type": "execute_result",
          "data": {
            "text/plain": [
              "array([4, 5, 6])"
            ]
          },
          "metadata": {
            "tags": []
          },
          "execution_count": 49
        }
      ]
    },
    {
      "cell_type": "code",
      "metadata": {
        "colab": {
          "base_uri": "https://localhost:8080/"
        },
        "id": "jA74CbherWMw",
        "outputId": "91494320-8f7f-45fe-c802-5c9ad73ada93"
      },
      "source": [
        "arr_2d[1][0]"
      ],
      "execution_count": null,
      "outputs": [
        {
          "output_type": "execute_result",
          "data": {
            "text/plain": [
              "4"
            ]
          },
          "metadata": {
            "tags": []
          },
          "execution_count": 50
        }
      ]
    },
    {
      "cell_type": "code",
      "metadata": {
        "colab": {
          "base_uri": "https://localhost:8080/"
        },
        "id": "s2cFXxO8rYU3",
        "outputId": "eba67e4b-0b5c-4dd2-ad71-f2bd75725369"
      },
      "source": [
        "arr_2d[1:3]"
      ],
      "execution_count": null,
      "outputs": [
        {
          "output_type": "execute_result",
          "data": {
            "text/plain": [
              "array([[4, 5, 6],\n",
              "       [7, 8, 9]])"
            ]
          },
          "metadata": {
            "tags": []
          },
          "execution_count": 51
        }
      ]
    },
    {
      "cell_type": "code",
      "metadata": {
        "colab": {
          "base_uri": "https://localhost:8080/"
        },
        "id": "JgVK7RhnreT-",
        "outputId": "b18360d5-7425-4e4e-9858-efe3c3cfb171"
      },
      "source": [
        "a = np.arange(12)\n",
        "a"
      ],
      "execution_count": null,
      "outputs": [
        {
          "output_type": "execute_result",
          "data": {
            "text/plain": [
              "array([ 0,  1,  2,  3,  4,  5,  6,  7,  8,  9, 10, 11])"
            ]
          },
          "metadata": {
            "tags": []
          },
          "execution_count": 52
        }
      ]
    },
    {
      "cell_type": "code",
      "metadata": {
        "colab": {
          "base_uri": "https://localhost:8080/"
        },
        "id": "EWgtmqF5rxtW",
        "outputId": "1e51a6a8-bc65-4958-8358-9e463807f12d"
      },
      "source": [
        "b = a.reshape(3, 4)\n",
        "b"
      ],
      "execution_count": null,
      "outputs": [
        {
          "output_type": "execute_result",
          "data": {
            "text/plain": [
              "array([[ 0,  1,  2,  3],\n",
              "       [ 4,  5,  6,  7],\n",
              "       [ 8,  9, 10, 11]])"
            ]
          },
          "metadata": {
            "tags": []
          },
          "execution_count": 53
        }
      ]
    },
    {
      "cell_type": "code",
      "metadata": {
        "colab": {
          "base_uri": "https://localhost:8080/"
        },
        "id": "Zo047zrAr0Kl",
        "outputId": "fdb048a2-13e2-4bd6-934c-d7832118c91d"
      },
      "source": [
        "c = b.reshape(4, 3)\n",
        "c"
      ],
      "execution_count": null,
      "outputs": [
        {
          "output_type": "execute_result",
          "data": {
            "text/plain": [
              "array([[ 0,  1,  2],\n",
              "       [ 3,  4,  5],\n",
              "       [ 6,  7,  8],\n",
              "       [ 9, 10, 11]])"
            ]
          },
          "metadata": {
            "tags": []
          },
          "execution_count": 55
        }
      ]
    },
    {
      "cell_type": "code",
      "metadata": {
        "colab": {
          "base_uri": "https://localhost:8080/"
        },
        "id": "YUdT97Sir9Wu",
        "outputId": "a5cefbf2-c08a-44a2-d1df-34279c44f13c"
      },
      "source": [
        "arr_2d[:][1:3] #슬라이싱 활용 가능. (위에서 말한거랑 같나..?)"
      ],
      "execution_count": null,
      "outputs": [
        {
          "output_type": "execute_result",
          "data": {
            "text/plain": [
              "array([[4, 5, 6],\n",
              "       [7, 8, 9]])"
            ]
          },
          "metadata": {
            "tags": []
          },
          "execution_count": 63
        }
      ]
    },
    {
      "cell_type": "code",
      "metadata": {
        "id": "v3hu9UNzsfRz"
      },
      "source": [
        "# 주의 : 길이 5인 1차원 배열과 행, 열의 갯수가 (5,1)인 2차원 배열 또는 \n",
        "#        행, 열의 갯수가 (1,5)인 2차원 배열은 데이터가 같아도 엄연히 다른 객체이다."
      ],
      "execution_count": null,
      "outputs": []
    },
    {
      "cell_type": "code",
      "metadata": {
        "id": "wrzmfFzstaLH"
      },
      "source": [
        "a = [1,2,3,4,5] # a is list\n",
        "b = np.array(a) # b is array"
      ],
      "execution_count": null,
      "outputs": []
    },
    {
      "cell_type": "code",
      "metadata": {
        "id": "HSoQFmfQtiTW"
      },
      "source": [
        "#a+5 # Error"
      ],
      "execution_count": null,
      "outputs": []
    },
    {
      "cell_type": "code",
      "metadata": {
        "id": "dlxhc_7itjee"
      },
      "source": [
        "b+5"
      ],
      "execution_count": null,
      "outputs": []
    },
    {
      "cell_type": "code",
      "metadata": {
        "colab": {
          "base_uri": "https://localhost:8080/"
        },
        "id": "Jljl84jotsKv",
        "outputId": "2ded3219-2c3e-4e12-da60-60eeab81572b"
      },
      "source": [
        "a*5"
      ],
      "execution_count": null,
      "outputs": [
        {
          "output_type": "execute_result",
          "data": {
            "text/plain": [
              "[1, 2, 3, 4, 5, 1, 2, 3, 4, 5, 1, 2, 3, 4, 5, 1, 2, 3, 4, 5, 1, 2, 3, 4, 5]"
            ]
          },
          "metadata": {
            "tags": []
          },
          "execution_count": 68
        }
      ]
    },
    {
      "cell_type": "code",
      "metadata": {
        "colab": {
          "base_uri": "https://localhost:8080/"
        },
        "id": "T_LtLU7ztvgu",
        "outputId": "3921e769-13bf-4e65-e422-7b9b0f02823c"
      },
      "source": [
        "b*5"
      ],
      "execution_count": null,
      "outputs": [
        {
          "output_type": "execute_result",
          "data": {
            "text/plain": [
              "array([ 5, 10, 15, 20, 25])"
            ]
          },
          "metadata": {
            "tags": []
          },
          "execution_count": 69
        }
      ]
    },
    {
      "cell_type": "markdown",
      "metadata": {
        "id": "1okNHq6XuPJW"
      },
      "source": [
        "#데이터 시각화"
      ]
    },
    {
      "cell_type": "code",
      "metadata": {
        "id": "GCMYEqSxtw1f"
      },
      "source": [
        "import pandas as pd\n",
        "import numpy as np\n",
        "import matplotlib.pyplot as plt"
      ],
      "execution_count": null,
      "outputs": []
    },
    {
      "cell_type": "code",
      "metadata": {
        "colab": {
          "base_uri": "https://localhost:8080/",
          "height": 281
        },
        "id": "L_lA1BALug8H",
        "outputId": "3aef1732-bd39-4f2e-9df6-edbb23b2ad6c"
      },
      "source": [
        "# 멧플롯립 활용해 데이터 시각화.\n",
        "plt.title(\"Plot\")\n",
        "plt.plot([1, 4, 9, 16]) # 틱(tick) 자동으로 0, 1, 2, 3\n",
        "plt.scatter([0, 1, 2, 3],[1, 4, 9, 16]) # 점 찍음 ㅋ\n",
        "plt.show()"
      ],
      "execution_count": null,
      "outputs": [
        {
          "output_type": "display_data",
          "data": {
            "image/png": "[encoded data removed]",
            "text/plain": [
              "<Figure size 432x288 with 1 Axes>"
            ]
          },
          "metadata": {
            "tags": [],
            "needs_background": "light"
          }
        }
      ]
    },
    {
      "cell_type": "code",
      "metadata": {
        "colab": {
          "base_uri": "https://localhost:8080/",
          "height": 281
        },
        "id": "YzMZTndPukwG",
        "outputId": "7ba47400-0a2b-4b17-b495-41d13c77fbff"
      },
      "source": [
        "plt.title(\"x ticks\")\n",
        "plt.plot([10, 20, 30, 40], [1, 4, 9, 16]) # tick 위치 별도 명시를 원할 시 두 개의 같은 길이의 리스트 혹은 배열 자료 넣기.\n",
        "plt.show()"
      ],
      "execution_count": null,
      "outputs": [
        {
          "output_type": "display_data",
          "data": {
            "image/png": "[encoded data removed]",
            "text/plain": [
              "<Figure size 432x288 with 1 Axes>"
            ]
          },
          "metadata": {
            "tags": [],
            "needs_background": "light"
          }
        }
      ]
    },
    {
      "cell_type": "code",
      "metadata": {
        "colab": {
          "base_uri": "https://localhost:8080/",
          "height": 265
        },
        "id": "J6PWLiSZvAc2",
        "outputId": "520a2371-c859-45c8-f982-3b26005b26fa"
      },
      "source": [
        "#기본 그래프 그리기\n",
        "x = np.arange(1.5)\n",
        "plt.plot(x, x) #plt.plot(x,y)\n",
        "plt.scatter(x, x)\n",
        "plt.show()"
      ],
      "execution_count": null,
      "outputs": [
        {
          "output_type": "display_data",
          "data": {
            "image/png": "[encoded data removed]",
            "text/plain": [
              "<Figure size 432x288 with 1 Axes>"
            ]
          },
          "metadata": {
            "tags": [],
            "needs_background": "light"
          }
        }
      ]
    },
    {
      "cell_type": "code",
      "metadata": {
        "colab": {
          "base_uri": "https://localhost:8080/",
          "height": 265
        },
        "id": "u9dFFacLwoKg",
        "outputId": "d0cd3be6-03c3-46fe-ab85-54961f4fa979"
      },
      "source": [
        "#3 - 삼각함수 그래프\n",
        "x = np.arange(-2*np.pi, 2*np.pi, 0.1)\n",
        "plt.plot(x,np.sin(x), 'r')\n",
        "plt.plot(x,np.cos(x), 'b')\n",
        "plt.show()"
      ],
      "execution_count": null,
      "outputs": [
        {
          "output_type": "display_data",
          "data": {
            "image/png": "[encoded data removed]",
            "text/plain": [
              "<Figure size 432x288 with 1 Axes>"
            ]
          },
          "metadata": {
            "tags": [],
            "needs_background": "light"
          }
        }
      ]
    },
    {
      "cell_type": "code",
      "metadata": {
        "id": "otB5oWoWw3Wv"
      },
      "source": [
        "\"\"\"\n",
        "#여러그래프 그리기\n",
        "x=np.array([1,2,3,4])\n",
        "\n",
        "plt.figure(4)\n",
        "plt.subplot(2,2,1)\n",
        "\"\"\""
      ],
      "execution_count": null,
      "outputs": []
    },
    {
      "cell_type": "code",
      "metadata": {
        "colab": {
          "base_uri": "https://localhost:8080/",
          "height": 281
        },
        "id": "PUH3MqAMxWX_",
        "outputId": "c48067fc-ab7c-434f-8060-0077cd942b1d"
      },
      "source": [
        "x = np.arange(-8, 8, 0.2)\n",
        "plt.title(\"Sigmoid Function\")\n",
        "plt.plot(x, 1/(1+np.exp(-x)))\n",
        "plt.show()"
      ],
      "execution_count": null,
      "outputs": [
        {
          "output_type": "display_data",
          "data": {
            "image/png": "[encoded data removed]",
            "text/plain": [
              "<Figure size 432x288 with 1 Axes>"
            ]
          },
          "metadata": {
            "tags": [],
            "needs_background": "light"
          }
        }
      ]
    },
    {
      "cell_type": "code",
      "metadata": {
        "colab": {
          "base_uri": "https://localhost:8080/",
          "height": 204
        },
        "id": "Et3Vcr_rx7Bv",
        "outputId": "7058bee3-fcf3-48a4-d530-a06f2fa6884d"
      },
      "source": [
        "data= pd.DataFrame({\"column1\":[1,3,5,7,9], \"column2\":[9,8,6,5,3]})\n",
        "data"
      ],
      "execution_count": null,
      "outputs": [
        {
          "output_type": "execute_result",
          "data": {
            "text/html": [
              "<div>\n",
              "<style scoped>\n",
              "    .dataframe tbody tr th:only-of-type {\n",
              "        vertical-align: middle;\n",
              "    }\n",
              "\n",
              "    .dataframe tbody tr th {\n",
              "        vertical-align: top;\n",
              "    }\n",
              "\n",
              "    .dataframe thead th {\n",
              "        text-align: right;\n",
              "    }\n",
              "</style>\n",
              "<table border=\"1\" class=\"dataframe\">\n",
              "  <thead>\n",
              "    <tr style=\"text-align: right;\">\n",
              "      <th></th>\n",
              "      <th>column1</th>\n",
              "      <th>column2</th>\n",
              "    </tr>\n",
              "  </thead>\n",
              "  <tbody>\n",
              "    <tr>\n",
              "      <th>0</th>\n",
              "      <td>1</td>\n",
              "      <td>9</td>\n",
              "    </tr>\n",
              "    <tr>\n",
              "      <th>1</th>\n",
              "      <td>3</td>\n",
              "      <td>8</td>\n",
              "    </tr>\n",
              "    <tr>\n",
              "      <th>2</th>\n",
              "      <td>5</td>\n",
              "      <td>6</td>\n",
              "    </tr>\n",
              "    <tr>\n",
              "      <th>3</th>\n",
              "      <td>7</td>\n",
              "      <td>5</td>\n",
              "    </tr>\n",
              "    <tr>\n",
              "      <th>4</th>\n",
              "      <td>9</td>\n",
              "      <td>3</td>\n",
              "    </tr>\n",
              "  </tbody>\n",
              "</table>\n",
              "</div>"
            ],
            "text/plain": [
              "   column1  column2\n",
              "0        1        9\n",
              "1        3        8\n",
              "2        5        6\n",
              "3        7        5\n",
              "4        9        3"
            ]
          },
          "metadata": {
            "tags": []
          },
          "execution_count": 91
        }
      ]
    },
    {
      "cell_type": "code",
      "metadata": {
        "colab": {
          "base_uri": "https://localhost:8080/",
          "height": 280
        },
        "id": "QCmnOFDVz0GA",
        "outputId": "cf22a22c-1e6f-4658-cb62-50c9ee06f25f"
      },
      "source": [
        "data.plot(kind='bar', stacked=True)"
      ],
      "execution_count": null,
      "outputs": [
        {
          "output_type": "execute_result",
          "data": {
            "text/plain": [
              "<matplotlib.axes._subplots.AxesSubplot at 0x7fed439e1b50>"
            ]
          },
          "metadata": {
            "tags": []
          },
          "execution_count": 92
        },
        {
          "output_type": "display_data",
          "data": {
            "image/png": "[encoded data removed]",
            "text/plain": [
              "<Figure size 432x288 with 1 Axes>"
            ]
          },
          "metadata": {
            "tags": [],
            "needs_background": "light"
          }
        }
      ]
    },
    {
      "cell_type": "code",
      "metadata": {
        "colab": {
          "base_uri": "https://localhost:8080/"
        },
        "id": "0P73DMqCz3rO",
        "outputId": "f724ac9d-dcf3-4e63-d63a-823c7b375a26"
      },
      "source": [
        "data=[1,2,3,4,5]\n",
        "avg=sum(data)/len(data)\n",
        "print(\"평균:\", avg)"
      ],
      "execution_count": null,
      "outputs": [
        {
          "output_type": "stream",
          "text": [
            "평균: 3.0\n"
          ],
          "name": "stdout"
        }
      ]
    },
    {
      "cell_type": "code",
      "metadata": {
        "colab": {
          "base_uri": "https://localhost:8080/"
        },
        "id": "ox5gY34B2iyr",
        "outputId": "8c937536-9bb8-4df0-efd3-fed87c3005fc"
      },
      "source": [
        "a=np.array([1,2,3,4,5])\n",
        "avg=np.mean(a) # same: a.mean() # 산술평균으로는 mean을 더 많이 사용함.\n",
        "\n",
        "print(\"평균:\", avg)"
      ],
      "execution_count": null,
      "outputs": [
        {
          "output_type": "stream",
          "text": [
            "평균: 3.0\n"
          ],
          "name": "stdout"
        }
      ]
    },
    {
      "cell_type": "code",
      "metadata": {
        "colab": {
          "base_uri": "https://localhost:8080/"
        },
        "id": "qAkQ_NiQ2rBe",
        "outputId": "ec66aaa2-b0ae-445c-8394-68e06de12c3b"
      },
      "source": [
        "import numpy as np\n",
        "import random as rd\n",
        "\n",
        "li=[]\n",
        "\n",
        "for i  in range(5):\n",
        "  li.append(rd.randint(1,10))\n",
        "print('li :', li)\n",
        "arr=np.array(li) # arr변수에 array()함수를 사용하여 배열 생성\n",
        "print('arr :', arr)\n",
        "avg=arr.mean() # avg변수에 mean()함수를 사용하여 평균 반환\n",
        "print('avg : ', avg)"
      ],
      "execution_count": null,
      "outputs": [
        {
          "output_type": "stream",
          "text": [
            "li : [6, 7, 6, 4, 10]\n",
            "arr : [ 6  7  6  4 10]\n",
            "avg :  6.6\n"
          ],
          "name": "stdout"
        }
      ]
    },
    {
      "cell_type": "code",
      "metadata": {
        "colab": {
          "base_uri": "https://localhost:8080/"
        },
        "id": "0KgSMeqi7keC",
        "outputId": "cce92867-7ec8-466b-f5b8-b2a05324fbf0"
      },
      "source": [
        "import pandas as pd\n",
        "df=pd.read_csv('ta_20210405210720.csv', encoding=\"cp949\")\n",
        "print(df)"
      ],
      "execution_count": null,
      "outputs": [
        {
          "output_type": "stream",
          "text": [
            "       년월   지점  평균기온(℃)  최저기온(℃)  최고기온(℃)\n",
            "0  Mar-19  143      9.4     -1.5     24.2\n"
          ],
          "name": "stdout"
        }
      ]
    },
    {
      "cell_type": "code",
      "metadata": {
        "colab": {
          "base_uri": "https://localhost:8080/"
        },
        "id": "n_QHX8gb3aC3",
        "outputId": "ad9fbcd9-9c5b-48b4-dc59-2c21b9146912"
      },
      "source": [
        "df=pd.read_csv('ta_20210405210116.csv', encoding=\"cp949\")\n",
        "print(df)\n",
        "print(\"평균:\", df['평균기온(℃)'].mean())"
      ],
      "execution_count": null,
      "outputs": [
        {
          "output_type": "stream",
          "text": [
            "            날짜   지점  평균기온(℃)  최저기온(℃)  최고기온(℃)\n",
            "0   2019-03-01  143      8.4      2.2     15.3\n",
            "1   2019-03-02  143      8.0      0.4     15.0\n",
            "2   2019-03-03  143     10.0      4.4     15.2\n",
            "3   2019-03-04  143     10.9      5.9     16.9\n",
            "4   2019-03-05  143     10.1      2.3     16.2\n",
            "5   2019-03-06  143     11.2      8.8     14.8\n",
            "6   2019-03-07  143      8.7      5.3     12.5\n",
            "7   2019-03-08  143      8.5      0.5     16.2\n",
            "8   2019-03-09  143     10.9      1.9     18.1\n",
            "9   2019-03-10  143      8.5      6.3     11.9\n",
            "10  2019-03-11  143      8.2      2.1     14.4\n",
            "11  2019-03-12  143      8.4      1.7     16.0\n",
            "12  2019-03-13  143      5.3      1.0     10.0\n",
            "13  2019-03-14  143      6.8     -1.5     13.2\n",
            "14  2019-03-15  143      6.8      4.0     13.3\n",
            "15  2019-03-16  143      7.6      3.0     13.2\n",
            "16  2019-03-17  143      8.5      4.3     14.1\n",
            "17  2019-03-18  143      9.0      0.6     16.9\n",
            "18  2019-03-19  143     13.5      4.3     21.2\n",
            "19  2019-03-20  143     12.6      7.0     18.1\n",
            "20  2019-03-21  143     13.5      6.4     18.2\n",
            "21  2019-03-22  143      7.2      3.7     12.9\n",
            "22  2019-03-23  143      6.0      3.1     13.1\n",
            "23  2019-03-24  143      6.6     -0.3     13.7\n",
            "24  2019-03-25  143      9.3      1.1     15.6\n",
            "25  2019-03-26  143     11.7      3.6     19.9\n",
            "26  2019-03-27  143     15.0      4.6     24.2\n",
            "27  2019-03-28  143     12.1      8.3     16.2\n",
            "28  2019-03-29  143     12.5      6.3     19.4\n",
            "29  2019-03-30  143      9.2      5.1     14.3\n",
            "30  2019-03-31  143      6.7      4.5     11.1\n",
            "평균: 9.40967741935484\n"
          ],
          "name": "stdout"
        }
      ]
    },
    {
      "cell_type": "code",
      "metadata": {
        "colab": {
          "base_uri": "https://localhost:8080/"
        },
        "id": "kC58iFZu6g4n",
        "outputId": "17989c85-5b38-42a3-ed2f-82d0d3407db0"
      },
      "source": [
        "df=pd.read_csv('toilet_2021.csv', encoding=\"cp949\")\n",
        "print(df)\n",
        "print(\"평균 남성용 소변기수: \", df['남성용-소변기수'].mean())"
      ],
      "execution_count": null,
      "outputs": [
        {
          "output_type": "stream",
          "text": [
            "      번호     구분                   화장실명  ... 기저귀교환대장소 리모델링연월     데이터기준일자\n",
            "0      1  공중화장실                월광수변공원2  ...       없음    NaN  2020-08-31\n",
            "1      2  공중화장실                 보성은하상가  ...       없음    NaN  2020-08-31\n",
            "2      3  개방화장실                   월곡빌딩  ...       없음    NaN  2020-08-31\n",
            "3      4  공중화장실                  상인프라자  ...       없음    NaN  2020-08-31\n",
            "4      5  공중화장실                  동양주유소  ...       없음    NaN  2020-08-31\n",
            "..   ...    ...                    ...  ...      ...    ...         ...\n",
            "437  438  개방화장실  대구광역시문화예술회관 미술관2층(우측)  ...       없음    NaN  2020-08-31\n",
            "438  439  개방화장실  대구광역시문화예술회관 미술관1층(좌측)  ...       없음    NaN  2020-08-31\n",
            "439  440  개방화장실  대구광역시문화예술회관 미술관1층(중앙)  ...    여자화장실    NaN  2020-08-31\n",
            "440  441  개방화장실  대구광역시문화예술회관 미술관1층(우측)  ...    여자화장실    NaN  2020-08-31\n",
            "441  442  공중화장실                   갈뫼공원  ...       없음    NaN  2020-08-31\n",
            "\n",
            "[442 rows x 29 columns]\n",
            "평균 남성용 소변기수:  2.6447963800904977\n"
          ],
          "name": "stdout"
        }
      ]
    },
    {
      "cell_type": "code",
      "metadata": {
        "colab": {
          "base_uri": "https://localhost:8080/"
        },
        "id": "JeVwekG38xQu",
        "outputId": "000b3020-8f97-42a6-9a20-6440895ce28b"
      },
      "source": [
        "df=pd.read_csv('toilet_2021.csv', encoding=\"cp949\")\n",
        "print(df)\n",
        "print(\"평균 남성용 대변기수: \", df['남성용-대변기수'].mean())\n",
        "print(\"평균 여성용 대변기수: \", df['여성용-대변기수'].mean())\n",
        "print(\"평균 남성용-장애인용 대변기수: \", df['남성용-장애인용대변기수'].mean())\n",
        "print(\"평균 여성용-장애인용 대변기수: \", df['여성용-장애인용대변기수'].mean())"
      ],
      "execution_count": null,
      "outputs": [
        {
          "output_type": "stream",
          "text": [
            "      번호     구분                   화장실명  ... 기저귀교환대장소 리모델링연월     데이터기준일자\n",
            "0      1  공중화장실                월광수변공원2  ...       없음    NaN  2020-08-31\n",
            "1      2  공중화장실                 보성은하상가  ...       없음    NaN  2020-08-31\n",
            "2      3  개방화장실                   월곡빌딩  ...       없음    NaN  2020-08-31\n",
            "3      4  공중화장실                  상인프라자  ...       없음    NaN  2020-08-31\n",
            "4      5  공중화장실                  동양주유소  ...       없음    NaN  2020-08-31\n",
            "..   ...    ...                    ...  ...      ...    ...         ...\n",
            "437  438  개방화장실  대구광역시문화예술회관 미술관2층(우측)  ...       없음    NaN  2020-08-31\n",
            "438  439  개방화장실  대구광역시문화예술회관 미술관1층(좌측)  ...       없음    NaN  2020-08-31\n",
            "439  440  개방화장실  대구광역시문화예술회관 미술관1층(중앙)  ...    여자화장실    NaN  2020-08-31\n",
            "440  441  개방화장실  대구광역시문화예술회관 미술관1층(우측)  ...    여자화장실    NaN  2020-08-31\n",
            "441  442  공중화장실                   갈뫼공원  ...       없음    NaN  2020-08-31\n",
            "\n",
            "[442 rows x 29 columns]\n",
            "평균 남성용 대변기수:  1.760180995475113\n",
            "평균 여성용 대변기수:  2.5407239819004523\n",
            "평균 남성용-장애인용 대변기수:  0.0\n",
            "평균 여성용-장애인용 대변기수:  0.41402714932126694\n"
          ],
          "name": "stdout"
        }
      ]
    }
  ]
}